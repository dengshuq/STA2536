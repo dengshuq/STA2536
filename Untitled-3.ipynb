import pandas as pd
import numpy as np
import matplotlib.pyplot as plt
#################################################################
###############Importing Data################################
#############################################################
SP500 = pd.read_csv('SP500.csv')
SP500['Time'] = pd.to_datetime(SP500['Date'])
SP500['SP500_close'] = SP500['Close/Last']

VIX = pd.read_csv('VIX.csv')
VIX['Time'] = pd.to_datetime(VIX['Date'])
VIX['VIX_close'] = VIX['Close']

merged_index = pd.merge(SP500, VIX, on='Time', how='inner')

merged_index = merged_index.replace([np.inf, -np.inf], np.nan).dropna(subset=['SP500_close', 'VIX_close'])
reversed_merged = merged_index.iloc[::-1]

reversed_merged['SPX Shift'] = reversed_merged['SP500_close'].shift(1)

reversed_merged['SPX Return 1'] = np.log(reversed_merged['SP500_close'] / reversed_merged['SPX Shift'])
reversed_merged['SPX Return 2'] = reversed_merged['SPX Return 1'].shift(1)
reversed_merged['Log VIX'] = np.log(reversed_merged['VIX_close'])

reversed_merged = reversed_merged.replace([np.inf, -np.inf], np.nan).dropna(subset=['SPX Return 1', 'SPX Return 2', 'Log VIX'])

X = reversed_merged[['Time', 'SPX Return 1', 'SPX Return 2', 'Log VIX']].copy()

X = X.reset_index(drop=True)
X = X.iloc[1:-1]

from sklearn.preprocessing import StandardScaler
#scaler = StandardScaler()
#X[['SPX Return 1', 'SPX Return 2', 'Log VIX']] = scaler.fit_transform(X[['SPX Return 1', 'SPX Return 2', 'Log VIX']])

#################################################################
###############Plotting Time Series################################
#############################################################
from sklearn.mixture import GaussianMixture

# Assuming your data X is in a format where you have a 2D array or DataFrame, and the first column is time (which we'll exclude)
# You can extract the features (columns 1, 2, 3) for modeling
X_features = X.iloc[:, 1:4]

# Create a figure with improved layout
plt.figure(figsize=(10, 6))
plt.plot(X['Time'], X['SPX Return 1'], label='SPX Return 1', color='royalblue', linewidth=2)

plt.title('SPX Return with Lag One', fontsize=16)
plt.xlabel('Time', fontsize=12)
plt.ylabel('Value', fontsize=12)
plt.grid(True, linestyle='--', alpha=0.5)
plt.xticks(rotation=45)
plt.tick_params(axis='both', which='major', labelsize=10)
plt.legend(fontsize=12, loc='upper right')
plt.axhline(y=0, color='gray', linestyle='--', linewidth=1)
plt.tight_layout()
plt.show()

# Create a figure with improved layout
plt.figure(figsize=(10, 6))
plt.plot(X['Time'], X['Log VIX'], label='Log VIX', color='green', linewidth=2)

plt.title('Log VIX', fontsize=16)
plt.xlabel('Time', fontsize=12)
plt.ylabel('Value', fontsize=12)
plt.grid(True, linestyle='--', alpha=0.5)
plt.xticks(rotation=45)
plt.tick_params(axis='both', which='major', labelsize=10)
plt.legend(fontsize=12, loc='upper right')
plt.axhline(y=0, color='gray', linestyle='--', linewidth=1)
plt.tight_layout()
plt.show()

#################################################################
###############Marginal Density################################
#############################################################
import numpy as np
import matplotlib.pyplot as plt
from scipy.stats import multivariate_normal

# Create a meshgrid to evaluate the conditional PDF
x = np.linspace(-10, 10, 100)

n_components = 3
gmm = GaussianMixture(n_components=n_components, random_state=0)
gmm.fit(X_features)

# Get the estimated parameters
means = gmm.means_
covariances = gmm.covariances_
weights = gmm.weights_

log_vix = np.linspace(X['Log VIX'].min(), X['Log VIX'].max(), 1000)
R1 = np.linspace(X['SPX Return 1'].min(), X['SPX Return 1'].max(), 1000)
R2 = np.linspace(X['SPX Return 2'].min(), X['SPX Return 2'].max(), 1000)

# Plotting the marginal distributions of each variable
fig, ax = plt.subplots(3, 1, figsize=(10, 15))

colors = ['#FF1493', 'purple', 'black']

for i in range(3):
    pdf = weights[i] * np.exp(-0.5 * (R1 - means[i, 1])**2 / covariances[i, 1, 1]) / np.sqrt(2 * np.pi * covariances[i, 1, 1])
    ax[1].plot(R1, pdf, color=colors[i], label=f'Regime {i+1}')
ax[1].set_title('Marginal Distribution of R1_t')
ax[1].legend()

for i in range(3):
    pdf = weights[i] * np.exp(-0.5 * (R2 - means[i, 0])**2 / covariances[i, 0, 0]) / np.sqrt(2 * np.pi * covariances[i, 0, 0])
    ax[0].plot(R2, pdf, color=colors[i], label=f'Regime {i+1}')
ax[0].set_title('Marginal Distribution of R2_t')
ax[0].legend()

for i in range(3):
    pdf = weights[i] * np.exp(-0.5 * (log_vix - means[i, 2])**2 / covariances[i, 2, 2]) / np.sqrt(2 * np.pi * covariances[i, 2, 2])
    ax[2].plot(log_vix, pdf, color=colors[i], label=f'Regime {i+1}')
ax[2].set_title('Marginal Distribution of Log VIX')
ax[2].legend()

plt.tight_layout()
plt.show()

#################################################################
###############Joint Density################################
#############################################################
import seaborn as sns
g = sns.PairGrid(X_features)
g.map_upper(sns.histplot, color='#3D2B55')
g.map_lower(sns.kdeplot, fill=True, color='#3D2B55')
g.map_diag(sns.histplot, kde=True, color='#3D2B55')

plt.show()

#################################################################
###############Question 5################################
#############################################################
regime_labels = gmm.predict(X_features)
# Add the regime labels to your DataFrame
X['Regime'] = regime_labels
colors_gmm = ['skyblue', 'lightgreen', 'salmon']

#################################################################
###############Scatterplots with Regimes################################
#############################################################
sns.pairplot(data=X, hue='Regime', vars=X_features, plot_kws={'alpha': 0.5})

#################################################################
###############Time Series with Regimes################################
#############################################################
import matplotlib.pyplot as plt
# plt.figure(figsize=(10, 6))
fig, ax = plt.subplots(figsize=(10, 6))

for i, color in enumerate(colors_gmm):
    cluster_data = X[X['Regime'] == i]
    plt.scatter(cluster_data['Time'], cluster_data['SPX Return 1'], c=color, label=f'Cluster {i}',s=8)


for i, color in enumerate(colors_gmm):
    print(i)
    print(color)
ax.grid(True, linestyle='--', alpha=0.5)
plt.tight_layout()

plt.xlabel('Time')
plt.ylabel('Log SPX Return with Lag One')
plt.legend()
plt.title('GMM Clustering Results')
plt.show()

fig, ax = plt.subplots(figsize=(10, 6))
for i, color in enumerate(colors_gmm):
    cluster_data = X[X['Regime'] == i]
    plt.scatter(cluster_data['Time'], cluster_data['SPX Return 2'], c=color, label=f'Cluster {i}',s=8)

for i, color in enumerate(colors_gmm):
    print(i)
    print(color)
ax.grid(True, linestyle='--', alpha=0.5)
plt.tight_layout()

plt.xlabel('Time')
plt.ylabel('Log SPX Return with Lag Two')
plt.legend()
plt.title('GMM Clustering Results')
plt.show()

fig, ax = plt.subplots(figsize=(10, 6))
for i, color in enumerate(colors_gmm):
    cluster_data = X[X['Regime'] == i]
    plt.scatter(cluster_data['Time'], cluster_data['Log VIX'], c=color, label=f'Cluster {i}',s=8)

for i, color in enumerate(colors_gmm):
    print(i)
    print(color)
ax.grid(True, linestyle='--', alpha=0.5)
plt.tight_layout()

plt.xlabel('Time')
plt.ylabel('Log VIX')
plt.legend()
plt.title('GMM Clustering Results')
plt.show()
